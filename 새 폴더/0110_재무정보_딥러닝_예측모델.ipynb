{
 "cells": [
  {
   "cell_type": "code",
   "execution_count": 1,
   "metadata": {},
   "outputs": [
    {
     "name": "stderr",
     "output_type": "stream",
     "text": [
      "C:\\Python\\Anaconda3-52\\lib\\site-packages\\h5py\\__init__.py:36: FutureWarning: Conversion of the second argument of issubdtype from `float` to `np.floating` is deprecated. In future, it will be treated as `np.float64 == np.dtype(float).type`.\n",
      "  from ._conv import register_converters as _register_converters\n"
     ]
    }
   ],
   "source": [
    "import tensorflow as tf\n",
    "import numpy as np\n",
    "import pandas as pd\n",
    "import datetime\n",
    "import matplotlib.pyplot as plt"
   ]
  },
  {
   "cell_type": "code",
   "execution_count": 4,
   "metadata": {},
   "outputs": [],
   "source": [
    "a=pd.read_excel('./data/total.xlsx')"
   ]
  },
  {
   "cell_type": "code",
   "execution_count": 8,
   "metadata": {},
   "outputs": [
    {
     "data": {
      "text/plain": [
       "Index(['회사명', '거래소코드', '회계년도', '[공통]자산(*)(IFRS)', '[공통]자본(*)(IFRS)',\n",
       "       '[공통]* 수권주식수(IFRS)', '[공통]*주당 액면가액(IFRS)', '[공통]* 발행한 주식총수(*)(IFRS)',\n",
       "       '[공통]   보통주(IFRS)', '[공통]   우선주(IFRS)', '[공통]   자본금(*)(IFRS)',\n",
       "       '[공통]      보통주자본금(IFRS)', '[공통]      우선주자본금(IFRS)',\n",
       "       '[공통]   신종자본증권(IFRS)', '[공통]   자본잉여금(*)(IFRS)',\n",
       "       '[공통]      주식발행초과금(IFRS)', '[공통]      배당건설이자(IFRS)',\n",
       "       '[공통]      주식매입선택권(IFRS)', '[공통]      감자차익(IFRS)',\n",
       "       '[공통]      보험차익(IFRS)', '[공통]      합병차익(IFRS)',\n",
       "       '[공통]      자산수증이익(IFRS)', '[공통]      채무면제이익(IFRS)',\n",
       "       '[공통]      자기주식처분이익(IFRS)', '[공통]      전환권대가(IFRS)',\n",
       "       '[공통]      신주인수권대가(IFRS)', '[공통]      교환권대가(IFRS)',\n",
       "       '[공통]      전환권재매입이익(IFRS)', '[공통]      기타자본잉여금(IFRS)',\n",
       "       '[공통]      재평가적립금(2001년 이전)(IFRS)', '[공통]   기타자본(*)(IFRS)',\n",
       "       '[공통]      자기주식(IFRS)', '[공통]      자기주식처분손실(IFRS)',\n",
       "       '[공통]      주식할인발행차금(IFRS)', '[공통]      주식매입선택권(IFRS).1',\n",
       "       '[공통]      감자차손(IFRS)', '[공통]      파생상품평가이익(IFRS)',\n",
       "       '[공통]      파생상품평가손실(IFRS)', '[공통]      전환권재매입손실(IFRS)',\n",
       "       '[공통]      기타(IFRS)', '[공통]   기타포괄손익누계액(*)(IFRS)',\n",
       "       '[공통]      금융자산평가손익(IFRS)', '[공통]      매도가능금융자산평가손익(IFRS)',\n",
       "       '[공통]      관계기업 등 기타포괄손익(IFRS)',\n",
       "       '[공통]      환산 관련 외환차이 적립금(환율변동차이)(IFRS)',\n",
       "       '[공통]      해외사업장순투자위험회피 적립금(IFRS)',\n",
       "       '[공통]      확정급여제도의 보험수리적 손익 적립금(IFRS)', '[공통]      확정급여제도의 재측정요소(IFRS)',\n",
       "       '[공통]      현금흐름위험회피 적립금(IFRS)', '[공통]      주식기준보상 적립금(IFRS)',\n",
       "       '[공통]      재평가잉여금(IFRS)', '[공통]      기타(IFRS).1',\n",
       "       '[공통]   이익잉여금(결손금)(*)(IFRS)', '[공통]   * (지배)당기순손익(IFRS)',\n",
       "       '[공통]      이익준비금(IFRS)', '[공통]      재무구조개선적립금(IFRS)',\n",
       "       '[공통]      기업합리화적립금(IFRS)', '[공통]      기타법정적립금(IFRS)',\n",
       "       '[공통]      재평가손익(IFRS)', '[공통]      보험수리적손익(IFRS)',\n",
       "       '[공통]      기타이익잉여금(IFRS)', '[공통]      미처분이익잉여금(결손금)(IFRS)',\n",
       "       '[공통]      *전기이월미처분이익잉여금(결손금)(IFRS)', '[공통]부채(*)(IFRS)'],\n",
       "      dtype='object')"
      ]
     },
     "execution_count": 8,
     "metadata": {},
     "output_type": "execute_result"
    }
   ],
   "source": [
    "a.columns"
   ]
  },
  {
   "cell_type": "code",
   "execution_count": null,
   "metadata": {},
   "outputs": [],
   "source": []
  }
 ],
 "metadata": {
  "kernelspec": {
   "display_name": "Python 3",
   "language": "python",
   "name": "python3"
  },
  "language_info": {
   "codemirror_mode": {
    "name": "ipython",
    "version": 3
   },
   "file_extension": ".py",
   "mimetype": "text/x-python",
   "name": "python",
   "nbconvert_exporter": "python",
   "pygments_lexer": "ipython3",
   "version": "3.6.5"
  }
 },
 "nbformat": 4,
 "nbformat_minor": 2
}
